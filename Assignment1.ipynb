{
 "cells": [
  {
   "cell_type": "code",
   "execution_count": 38,
   "id": "8bfe2b01-8785-4e6e-88b1-96447744436a",
   "metadata": {},
   "outputs": [
    {
     "name": "stdout",
     "output_type": "stream",
     "text": [
      "\n",
      "========================================================\n",
      "Select 1,2,3,4 or 5 from below options : \n",
      "1. Add Expense\n",
      "2. View Expenses\n",
      "3. Set Budget\n",
      "4. Track Budget\n",
      "5. Save expenses\n",
      "6. Exit\n",
      "\n"
     ]
    },
    {
     "name": "stdin",
     "output_type": "stream",
     "text": [
      "Enter option number :  1\n",
      "Enter a date in the format YYYY-MM-DD:  2025-03-01\n",
      "Enter Category such as Food or Travel =  food\n",
      "The amount spent =  10\n",
      "A brief description of the expense =  food\n"
     ]
    },
    {
     "name": "stdout",
     "output_type": "stream",
     "text": [
      "\n",
      "========================================================\n",
      "Select 1,2,3,4 or 5 from below options : \n",
      "1. Add Expense\n",
      "2. View Expenses\n",
      "3. Set Budget\n",
      "4. Track Budget\n",
      "5. Save expenses\n",
      "6. Exit\n",
      "\n"
     ]
    },
    {
     "name": "stdin",
     "output_type": "stream",
     "text": [
      "Enter option number :  3\n",
      "Enter your monthly budget:  15\n"
     ]
    },
    {
     "name": "stdout",
     "output_type": "stream",
     "text": [
      "Monthly budget set to 15.0\n",
      "\n",
      "========================================================\n",
      "Select 1,2,3,4 or 5 from below options : \n",
      "1. Add Expense\n",
      "2. View Expenses\n",
      "3. Set Budget\n",
      "4. Track Budget\n",
      "5. Save expenses\n",
      "6. Exit\n",
      "\n"
     ]
    },
    {
     "name": "stdin",
     "output_type": "stream",
     "text": [
      "Enter option number :  4\n"
     ]
    },
    {
     "name": "stdout",
     "output_type": "stream",
     "text": [
      "Filtering expenses for the current month...\n",
      "\n",
      "Total expenses for the current month: 10.00\n",
      "\n",
      "You have 5.00 left for the month\n",
      "\n",
      "\n",
      "========================================================\n",
      "Select 1,2,3,4 or 5 from below options : \n",
      "1. Add Expense\n",
      "2. View Expenses\n",
      "3. Set Budget\n",
      "4. Track Budget\n",
      "5. Save expenses\n",
      "6. Exit\n",
      "\n"
     ]
    },
    {
     "name": "stdin",
     "output_type": "stream",
     "text": [
      "Enter option number :  1\n",
      "Enter a date in the format YYYY-MM-DD:  2025-01-01\n",
      "Enter Category such as Food or Travel =  travel\n",
      "The amount spent =  22\n",
      "A brief description of the expense =  ticket\n"
     ]
    },
    {
     "name": "stdout",
     "output_type": "stream",
     "text": [
      "\n",
      "========================================================\n",
      "Select 1,2,3,4 or 5 from below options : \n",
      "1. Add Expense\n",
      "2. View Expenses\n",
      "3. Set Budget\n",
      "4. Track Budget\n",
      "5. Save expenses\n",
      "6. Exit\n",
      "\n"
     ]
    },
    {
     "name": "stdin",
     "output_type": "stream",
     "text": [
      "Enter option number :  2\n"
     ]
    },
    {
     "name": "stdout",
     "output_type": "stream",
     "text": [
      "Date: 2025-03-01, Category: food, Amount: 10, Description: food\n",
      "Date: 2025-01-01, Category: travel, Amount: 22, Description: ticket\n",
      "\n",
      "========================================================\n",
      "Select 1,2,3,4 or 5 from below options : \n",
      "1. Add Expense\n",
      "2. View Expenses\n",
      "3. Set Budget\n",
      "4. Track Budget\n",
      "5. Save expenses\n",
      "6. Exit\n",
      "\n"
     ]
    },
    {
     "name": "stdin",
     "output_type": "stream",
     "text": [
      "Enter option number :  4\n"
     ]
    },
    {
     "name": "stdout",
     "output_type": "stream",
     "text": [
      "Filtering expenses for the current month...\n",
      "\n",
      "Total expenses for the current month: 10.00\n",
      "\n",
      "You have 5.00 left for the month\n",
      "\n",
      "\n",
      "========================================================\n",
      "Select 1,2,3,4 or 5 from below options : \n",
      "1. Add Expense\n",
      "2. View Expenses\n",
      "3. Set Budget\n",
      "4. Track Budget\n",
      "5. Save expenses\n",
      "6. Exit\n",
      "\n"
     ]
    },
    {
     "name": "stdin",
     "output_type": "stream",
     "text": [
      "Enter option number :  5\n"
     ]
    },
    {
     "name": "stdout",
     "output_type": "stream",
     "text": [
      "Expenses saved to data.csv\n",
      "\n",
      "========================================================\n",
      "Select 1,2,3,4 or 5 from below options : \n",
      "1. Add Expense\n",
      "2. View Expenses\n",
      "3. Set Budget\n",
      "4. Track Budget\n",
      "5. Save expenses\n",
      "6. Exit\n",
      "\n"
     ]
    },
    {
     "ename": "KeyboardInterrupt",
     "evalue": "Interrupted by user",
     "output_type": "error",
     "traceback": [
      "\u001b[1;31m---------------------------------------------------------------------------\u001b[0m",
      "\u001b[1;31mKeyboardInterrupt\u001b[0m                         Traceback (most recent call last)",
      "Cell \u001b[1;32mIn[38], line 174\u001b[0m\n\u001b[0;32m    170\u001b[0m             \u001b[38;5;66;03m#return \"Bad request\"\u001b[39;00m\n\u001b[0;32m    171\u001b[0m \n\u001b[0;32m    172\u001b[0m \u001b[38;5;66;03m#Function call------------------------------------------------------------\u001b[39;00m\n\u001b[0;32m    173\u001b[0m \u001b[38;5;28;01mwhile\u001b[39;00m (runCount\u001b[38;5;241m==\u001b[39m\u001b[38;5;241m1\u001b[39m) :\n\u001b[1;32m--> 174\u001b[0m     showMenu()\n",
      "Cell \u001b[1;32mIn[38], line 109\u001b[0m, in \u001b[0;36mshowMenu\u001b[1;34m()\u001b[0m\n\u001b[0;32m    106\u001b[0m \u001b[38;5;28mprint\u001b[39m(\u001b[38;5;124m'\u001b[39m\u001b[38;5;124m6. Exit\u001b[39m\u001b[38;5;124m'\u001b[39m)\n\u001b[0;32m    108\u001b[0m \u001b[38;5;28mprint\u001b[39m()\n\u001b[1;32m--> 109\u001b[0m userOption \u001b[38;5;241m=\u001b[39m \u001b[38;5;28mint\u001b[39m(\u001b[38;5;28minput\u001b[39m(\u001b[38;5;124m'\u001b[39m\u001b[38;5;124mEnter option number : \u001b[39m\u001b[38;5;124m'\u001b[39m))\n\u001b[0;32m    110\u001b[0m menuEx(userOption)\n",
      "File \u001b[1;32m~\\anaconda3\\Lib\\site-packages\\ipykernel\\kernelbase.py:1262\u001b[0m, in \u001b[0;36mKernel.raw_input\u001b[1;34m(self, prompt)\u001b[0m\n\u001b[0;32m   1260\u001b[0m     msg \u001b[38;5;241m=\u001b[39m \u001b[38;5;124m\"\u001b[39m\u001b[38;5;124mraw_input was called, but this frontend does not support input requests.\u001b[39m\u001b[38;5;124m\"\u001b[39m\n\u001b[0;32m   1261\u001b[0m     \u001b[38;5;28;01mraise\u001b[39;00m StdinNotImplementedError(msg)\n\u001b[1;32m-> 1262\u001b[0m \u001b[38;5;28;01mreturn\u001b[39;00m \u001b[38;5;28mself\u001b[39m\u001b[38;5;241m.\u001b[39m_input_request(\n\u001b[0;32m   1263\u001b[0m     \u001b[38;5;28mstr\u001b[39m(prompt),\n\u001b[0;32m   1264\u001b[0m     \u001b[38;5;28mself\u001b[39m\u001b[38;5;241m.\u001b[39m_parent_ident[\u001b[38;5;124m\"\u001b[39m\u001b[38;5;124mshell\u001b[39m\u001b[38;5;124m\"\u001b[39m],\n\u001b[0;32m   1265\u001b[0m     \u001b[38;5;28mself\u001b[39m\u001b[38;5;241m.\u001b[39mget_parent(\u001b[38;5;124m\"\u001b[39m\u001b[38;5;124mshell\u001b[39m\u001b[38;5;124m\"\u001b[39m),\n\u001b[0;32m   1266\u001b[0m     password\u001b[38;5;241m=\u001b[39m\u001b[38;5;28;01mFalse\u001b[39;00m,\n\u001b[0;32m   1267\u001b[0m )\n",
      "File \u001b[1;32m~\\anaconda3\\Lib\\site-packages\\ipykernel\\kernelbase.py:1305\u001b[0m, in \u001b[0;36mKernel._input_request\u001b[1;34m(self, prompt, ident, parent, password)\u001b[0m\n\u001b[0;32m   1302\u001b[0m \u001b[38;5;28;01mexcept\u001b[39;00m \u001b[38;5;167;01mKeyboardInterrupt\u001b[39;00m:\n\u001b[0;32m   1303\u001b[0m     \u001b[38;5;66;03m# re-raise KeyboardInterrupt, to truncate traceback\u001b[39;00m\n\u001b[0;32m   1304\u001b[0m     msg \u001b[38;5;241m=\u001b[39m \u001b[38;5;124m\"\u001b[39m\u001b[38;5;124mInterrupted by user\u001b[39m\u001b[38;5;124m\"\u001b[39m\n\u001b[1;32m-> 1305\u001b[0m     \u001b[38;5;28;01mraise\u001b[39;00m \u001b[38;5;167;01mKeyboardInterrupt\u001b[39;00m(msg) \u001b[38;5;28;01mfrom\u001b[39;00m \u001b[38;5;28;01mNone\u001b[39;00m\n\u001b[0;32m   1306\u001b[0m \u001b[38;5;28;01mexcept\u001b[39;00m \u001b[38;5;167;01mException\u001b[39;00m:\n\u001b[0;32m   1307\u001b[0m     \u001b[38;5;28mself\u001b[39m\u001b[38;5;241m.\u001b[39mlog\u001b[38;5;241m.\u001b[39mwarning(\u001b[38;5;124m\"\u001b[39m\u001b[38;5;124mInvalid Message:\u001b[39m\u001b[38;5;124m\"\u001b[39m, exc_info\u001b[38;5;241m=\u001b[39m\u001b[38;5;28;01mTrue\u001b[39;00m)\n",
      "\u001b[1;31mKeyboardInterrupt\u001b[0m: Interrupted by user"
     ]
    }
   ],
   "source": [
    "from datetime import datetime\n",
    "import os,sys\n",
    "import csv\n",
    "#import sys\n",
    "todayExpense = []\n",
    "runCount = 1\n",
    "def loadEx():\n",
    "    # Specify the CSV file name\n",
    "    file_name = 'data.csv'\n",
    "\n",
    "    # Initialize an empty dictionary\n",
    "    data = {}\n",
    "\n",
    "    # Read dictionary from CSV file\n",
    "    with open(file_name, mode='r') as file:\n",
    "        reader = csv.DictReader(file)\n",
    "\n",
    "        for row in reader:\n",
    "        # Convert the row to a dictionary and store it in data\n",
    "            data = dict(row)\n",
    "    return data\n",
    "\n",
    "def addExpense(dict):\n",
    "    todayExpense.append(dict)\n",
    "    showMenu()\n",
    "\n",
    "def is_valid_date(date_str):\n",
    "    inputDate = date_str\n",
    "    try:\n",
    "        # Try to parse the date\n",
    "        inputDate = datetime.strptime(date_str, \"%Y-%m-%d\")\n",
    "        return inputDate\n",
    "    except ValueError:\n",
    "        # If parsing fails, the date is invalid\n",
    "        return inputDate\n",
    "\n",
    "def viewExpense():\n",
    "    if not todayExpense:\n",
    "        print(\"No expenses entered.\")\n",
    "        return\n",
    "    \n",
    "    for expense in todayExpense:\n",
    "        if(all in expense for key in ('date', 'category', 'amount', 'description')):\n",
    "            if(expense['date']  not in (None, '', 'null') and expense['category'] != '' and expense['description'] != '' \n",
    "               and expense['amount'] != '' and float(expense['amount'])>0.0 ):\n",
    "                print(f\"Date: {expense['date']}, Category: {expense['category']}, Amount: {expense['amount']}, Description: {expense['description']}\")\n",
    "            else:\n",
    "                print('Incomplete expense record found.')\n",
    "        #else:\n",
    "            #print(\"Incomplete expense record found.\")\n",
    "\n",
    "def setExpense():\n",
    "    global monthly_budget\n",
    "    monthly_budget = 0.0\n",
    "    monthly_budget = float(input(\"Enter your monthly budget: \"))\n",
    "    print(f\"Monthly budget set to {monthly_budget}\")\n",
    "\n",
    "def trackBudget():\n",
    "    total_expenses = 0.0\n",
    "    if(monthly_budget == 0.0):\n",
    "        setExpense()\n",
    "    remaining_budget = monthly_budget\n",
    "    \n",
    "    current_date = datetime.now()\n",
    "    print(\"Filtering expenses for the current month...\\n\")\n",
    "    \n",
    "    for expense in todayExpense:\n",
    "        # Parse expense date\n",
    "        expense_date = datetime.strptime(expense['date'], \"%Y-%m-%d\")\n",
    "        \n",
    "        # Check if the expense is in the current month\n",
    "        if (expense_date.year == current_date.year and expense_date.month == current_date.month):\n",
    "            if (expense['amount'].replace(\".\", \"\", 1).isdigit() and expense['amount'].count(\".\") <= 1):\n",
    "                total_expenses += float(expense['amount'])\n",
    "                remaining_budget = monthly_budget - total_expenses\n",
    "\n",
    "    print(f\"Total expenses for the current month: {total_expenses:.2f}\")\n",
    "    print()\n",
    "    if total_expenses > monthly_budget:\n",
    "        print(f\"You have exceeded your budget by {total_expenses - monthly_budget:.2f}\")\n",
    "    else:\n",
    "        print(f\"You have {remaining_budget:.2f} left for the month\")\n",
    "    print()\n",
    "\n",
    "\n",
    "# Function to save expenses to a CSV file\n",
    "def saveExpenses():\n",
    "    file_name = 'data.csv'\n",
    "    with open(file_name, mode='w', newline='') as file:\n",
    "        writer = csv.writer(file)\n",
    "        writer.writerow(['date', 'category', 'amount', 'description'])\n",
    "        for expense in todayExpense:\n",
    "            writer.writerow([expense['date'], expense['category'], expense['amount'], expense['description']])\n",
    "    print(f\"Expenses saved to {file_name}\")\n",
    "\n",
    "\n",
    "def showMenu():\n",
    "    print()\n",
    "    print('========================================================')\n",
    "    print('Select 1,2,3,4 or 5 from below options : ')\n",
    "    print('1. Add Expense')\n",
    "    print('2. View Expenses')\n",
    "    print('3. Set Budget')\n",
    "    print('4. Track Budget')\n",
    "    print('5. Save expenses')\n",
    "    print('6. Exit')\n",
    "\n",
    "    print()\n",
    "    userOption = int(input('Enter option number : '))\n",
    "    menuEx(userOption)\n",
    "\n",
    "        \n",
    "\n",
    "def menuEx(userOption):\n",
    "    oldData = loadEx()\n",
    "    global runCount\n",
    "    match userOption :\n",
    "        case 1:\n",
    "                exDate = input(\"Enter a date in the format YYYY-MM-DD: \")\n",
    "                #exDate = is_valid_date(exDate)\n",
    "\n",
    "                # Convert the input string to a datetime object\n",
    "                #try:\n",
    "                #exDate = datetime.strptime(exDate, '%Y-%m-%d')\n",
    "                    #print(\"The date you entered is:\", datetime.strftime(exDate, '%Y-%m-%d'))\n",
    "                    #print(type(exDate))\n",
    "                #except ValueError:\n",
    "                    #print(\"Incorrect date format. Please enter the date in the format YYYY-MM-DD.\")\n",
    "\n",
    "                category = input('Enter Category such as Food or Travel = ')\n",
    "                #print('Category = ',category)\n",
    "\n",
    "                amount = input('The amount spent = ')\n",
    "                #print('amount =', amount)\n",
    "\n",
    "                desc = input('A brief description of the expense = ')\n",
    "                #print('Desc = ',desc)\n",
    "\n",
    "                # Initialize an empty dictionary\n",
    "                expense_dict = {}\n",
    "                # Store the inputs in the dictionary\n",
    "               # if(exDate date_str  not in (None, '', 'null') and category != '' and desc != '' and float(amount)>0.0 )\n",
    "                #expense_dict['date'] = datetime.strftime(exDate, '%Y-%m-%d') \n",
    "                expense_dict['date'] = exDate\n",
    "                expense_dict['category'] = category\n",
    "                expense_dict['amount'] = amount\n",
    "                expense_dict['description'] = desc\n",
    "                # Print file\n",
    "                addExpense(expense_dict)\n",
    "                return\n",
    "        case 2 :\n",
    "                viewExpense()\n",
    "                return\n",
    "        case 3 :\n",
    "                setExpense()\n",
    "                return    \n",
    "        case 4 :\n",
    "                trackBudget()\n",
    "                return\n",
    "        case 5 :\n",
    "                saveExpenses()\n",
    "                return\n",
    "        case 6:\n",
    "                runCount = 2\n",
    "                   \n",
    "        case _:\n",
    "            return \"Something's wrong with the internet\" \n",
    "            \n",
    "            \n",
    "            #return \"Bad request\"\n",
    "\n",
    "#Function call------------------------------------------------------------\n",
    "while (runCount==1) :\n",
    "    showMenu()"
   ]
  },
  {
   "cell_type": "code",
   "execution_count": null,
   "id": "dd1313ab-218a-48d4-815f-8d1eb305def1",
   "metadata": {},
   "outputs": [],
   "source": []
  },
  {
   "cell_type": "code",
   "execution_count": null,
   "id": "d38d8bbd-9113-4cd2-ae8b-16d754682567",
   "metadata": {},
   "outputs": [],
   "source": []
  },
  {
   "cell_type": "code",
   "execution_count": null,
   "id": "6d06eaf1-6059-415b-af46-cf9bda4c32bd",
   "metadata": {},
   "outputs": [],
   "source": []
  },
  {
   "cell_type": "code",
   "execution_count": null,
   "id": "93171965-75eb-4f87-83dd-eaea5f1af0d2",
   "metadata": {},
   "outputs": [],
   "source": []
  },
  {
   "cell_type": "code",
   "execution_count": null,
   "id": "5a9445d3-9879-49c4-bdf7-20e132be52d3",
   "metadata": {},
   "outputs": [],
   "source": []
  }
 ],
 "metadata": {
  "kernelspec": {
   "display_name": "Python [conda env:base] *",
   "language": "python",
   "name": "conda-base-py"
  },
  "language_info": {
   "codemirror_mode": {
    "name": "ipython",
    "version": 3
   },
   "file_extension": ".py",
   "mimetype": "text/x-python",
   "name": "python",
   "nbconvert_exporter": "python",
   "pygments_lexer": "ipython3",
   "version": "3.12.7"
  }
 },
 "nbformat": 4,
 "nbformat_minor": 5
}
